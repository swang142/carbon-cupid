{
 "cells": [
  {
   "cell_type": "code",
   "execution_count": 13,
   "id": "714ea741-e9cc-4fbb-a9a4-3e8a75789ec1",
   "metadata": {},
   "outputs": [
    {
     "name": "stdout",
     "output_type": "stream",
     "text": [
      "DataFrame shape after dropping columns: (56, 10)\n",
      "Cleaned file saved as: mdr_trials_cleaned.csv\n"
     ]
    }
   ],
   "source": [
    "import pandas as pd\n",
    "\n",
    "# Load the CSV file\n",
    "file_path = 'mdr_trials.csv'  # Replace with the correct path to your file\n",
    "df = pd.read_csv(file_path)\n",
    "\n",
    "# List of columns to drop (exact match with your provided columns)\n",
    "columns_to_drop = [\n",
    "    \"Primary CDR Method\", \"Status\", \"Start of Pilot\", \"End of Pilot\", \"Duration of Pilot\", \n",
    "    \"Goals of Pilot / Field Trial\", \"Relevance for Path to Commercial\", \n",
    "    \"Planned Sequestration (tons CO2)\", \"Sequestration per year (tons CO2/year)\", \n",
    "    \"Lessons Learned\", \"Followup Trial Expected\", \"Location\", \n",
    "    \"Organization-specific: Input(s)\", \"Organization-specific: Output(s)\", \n",
    "    \"Organization-specific: CDR Location (Requirements)\", \"Latitude\", \"longitude\", \"URL\",\n",
    "    \"Primary CDR method\", \"status\", \"start of pilot\", \"end of pilot\", \"duraiton of pilot\", \n",
    "    \"field trial\", \"relevance of path\", \"planned sequestration\", \"sequestration per year\", \n",
    "    \"lessons learned follow up\", \"trial expected\", \"locatio\", \"organization specific inputs\", \n",
    "    \"organization outputs\", \"organization specific cdr location requirements\", \"uRL\"\n",
    "]\n",
    "\n",
    "# Drop the columns from the dataframe (case-sensitive matching)\n",
    "df_cleaned = df.drop(columns=[col for col in columns_to_drop if col in df.columns], errors='ignore')\n",
    "\n",
    "# Check the shape after dropping columns\n",
    "print(f\"DataFrame shape after dropping columns: {df_cleaned.shape}\")\n",
    "\n",
    "# Save the cleaned dataframe to a new file\n",
    "output_file = 'mdr_trials_cleaned.csv'\n",
    "df_cleaned.to_csv(output_file, index=False)\n",
    "\n",
    "print(f\"Cleaned file saved as: {output_file}\")\n"
   ]
  },
  {
   "cell_type": "code",
   "execution_count": null,
   "id": "7eb11fbc-25e5-4323-ac9e-278643d8918d",
   "metadata": {},
   "outputs": [],
   "source": []
  }
 ],
 "metadata": {
  "kernelspec": {
   "display_name": "Python 3 (ipykernel)",
   "language": "python",
   "name": "python3"
  },
  "language_info": {
   "codemirror_mode": {
    "name": "ipython",
    "version": 3
   },
   "file_extension": ".py",
   "mimetype": "text/x-python",
   "name": "python",
   "nbconvert_exporter": "python",
   "pygments_lexer": "ipython3",
   "version": "3.12.2"
  }
 },
 "nbformat": 4,
 "nbformat_minor": 5
}
