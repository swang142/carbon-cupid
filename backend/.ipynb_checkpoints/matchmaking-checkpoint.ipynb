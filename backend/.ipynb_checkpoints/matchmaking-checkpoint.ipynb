{
 "cells": [
  {
   "cell_type": "code",
   "execution_count": 2,
   "id": "714ea741-e9cc-4fbb-a9a4-3e8a75789ec1",
   "metadata": {},
   "outputs": [
    {
     "name": "stdout",
     "output_type": "stream",
     "text": [
      "\n",
      "===== Organizations Data Columns =====\n",
      "- Company (object)\n",
      "- Sector (object)\n",
      "- Activity_Type (object)\n",
      "- Technology_Category (object)\n",
      "- Description (object)\n",
      "\n",
      "===== MDR Trials Data Columns =====\n",
      "- Trial Name (object)\n",
      "- Leading Organization (object)\n",
      "- Other Leading Organization(s) (object)\n",
      "- Organization Type (object)\n",
      "- Primary CDR Method (object)\n",
      "- All CDR Methods (object)\n",
      "- Status (object)\n",
      "- Start of Pilot (object)\n",
      "- End of Pilot (object)\n",
      "- Duration of Pilot (object)\n",
      "- Goals of Pilot / Field Trial (object)\n",
      "- Relevance for Path to Commercial (object)\n",
      "- Planned Sequestration (tons CO2) (object)\n",
      "- Sequestration per year (tons CO2/year) (object)\n",
      "- Partners or Collaborator (object)\n",
      "- MRV Provider (object)\n",
      "- MRV Strategy (object)\n",
      "- Monitoring Platforms (object)\n",
      "- Measurements (object)\n",
      "- Lessons Learned (object)\n",
      "- Followup Trial Expected (object)\n",
      "- Location (object)\n",
      "- Organization-specific: Input(s) (object)\n",
      "- Organization-specific: Output(s) (object)\n",
      "- Organization-specific: CDR Location (Requirements) (object)\n",
      "- Latitude (float64)\n",
      "- longitude (float64)\n",
      "- URL (object)\n",
      "\n",
      "Dataframes saved to processed_data\n"
     ]
    }
   ],
   "source": []
  },
  {
   "cell_type": "code",
   "execution_count": null,
   "id": "7eb11fbc-25e5-4323-ac9e-278643d8918d",
   "metadata": {},
   "outputs": [],
   "source": []
  }
 ],
 "metadata": {
  "kernelspec": {
   "display_name": "Python 3 (ipykernel)",
   "language": "python",
   "name": "python3"
  },
  "language_info": {
   "codemirror_mode": {
    "name": "ipython",
    "version": 3
   },
   "file_extension": ".py",
   "mimetype": "text/x-python",
   "name": "python",
   "nbconvert_exporter": "python",
   "pygments_lexer": "ipython3",
   "version": "3.12.2"
  }
 },
 "nbformat": 4,
 "nbformat_minor": 5
}
