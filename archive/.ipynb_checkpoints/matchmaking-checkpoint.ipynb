{
 "cells": [
  {
   "cell_type": "code",
   "execution_count": 12,
   "id": "43cc41ac-a79b-4270-baac-a6835ff35913",
   "metadata": {},
   "outputs": [
    {
     "ename": "ConnectionError",
     "evalue": "Unauthorized Access, please try again by providing password, i.e. Airscraper(url,password=password)",
     "output_type": "error",
     "traceback": [
      "\u001b[0;31m---------------------------------------------------------------------------\u001b[0m",
      "\u001b[0;31mAttributeError\u001b[0m                            Traceback (most recent call last)",
      "File \u001b[0;32m~/Library/jupyterlab-desktop/jlab_server/lib/python3.12/site-packages/airscraper/airscraper.py:67\u001b[0m, in \u001b[0;36mAirScraper.update_params\u001b[0;34m(self)\u001b[0m\n\u001b[1;32m     65\u001b[0m script \u001b[38;5;241m=\u001b[39m html\u001b[38;5;241m.\u001b[39mtitle\u001b[38;5;241m.\u001b[39mfind_next(\u001b[38;5;124m'\u001b[39m\u001b[38;5;124mscript\u001b[39m\u001b[38;5;124m'\u001b[39m)\n\u001b[1;32m     66\u001b[0m \u001b[38;5;28mself\u001b[39m\u001b[38;5;241m.\u001b[39mview_id \u001b[38;5;241m=\u001b[39m \u001b[43mre\u001b[49m\u001b[38;5;241;43m.\u001b[39;49m\u001b[43msearch\u001b[49m\u001b[43m(\u001b[49m\n\u001b[0;32m---> 67\u001b[0m \u001b[43m    \u001b[49m\u001b[38;5;124;43mr\u001b[39;49m\u001b[38;5;124;43m\"\u001b[39;49m\u001b[38;5;124;43m(viw[a-zA-Z0-9]+)\u001b[39;49m\u001b[38;5;124;43m\"\u001b[39;49m\u001b[43m,\u001b[49m\u001b[43m \u001b[49m\u001b[38;5;28;43mstr\u001b[39;49m\u001b[43m(\u001b[49m\u001b[43mscript\u001b[49m\u001b[43m)\u001b[49m\u001b[43m)\u001b[49m\u001b[38;5;241;43m.\u001b[39;49m\u001b[43mgroup\u001b[49m(\u001b[38;5;241m1\u001b[39m)\n\u001b[1;32m     68\u001b[0m access_policy \u001b[38;5;241m=\u001b[39m re\u001b[38;5;241m.\u001b[39msearch(\n\u001b[1;32m     69\u001b[0m     \u001b[38;5;124mr\u001b[39m\u001b[38;5;124m\"\u001b[39m\u001b[38;5;124maccessPolicy=([a-zA-Z0-9\u001b[39m\u001b[38;5;124m%\u001b[39m\u001b[38;5;124m*\u001b[39m\u001b[38;5;124m\\\u001b[39m\u001b[38;5;124m-.,]+)\u001b[39m\u001b[38;5;124m\"\u001b[39m, \u001b[38;5;28mstr\u001b[39m(script))\u001b[38;5;241m.\u001b[39mgroup(\u001b[38;5;241m1\u001b[39m)\n",
      "\u001b[0;31mAttributeError\u001b[0m: 'NoneType' object has no attribute 'group'",
      "\nDuring handling of the above exception, another exception occurred:\n",
      "\u001b[0;31mConnectionError\u001b[0m                           Traceback (most recent call last)",
      "Cell \u001b[0;32mIn[12], line 18\u001b[0m\n\u001b[1;32m     15\u001b[0m session\u001b[38;5;241m.\u001b[39mpost(login_url, data\u001b[38;5;241m=\u001b[39mlogin_data)\n\u001b[1;32m     17\u001b[0m \u001b[38;5;66;03m# Now pass this authenticated session to AirScraper\u001b[39;00m\n\u001b[0;32m---> 18\u001b[0m client \u001b[38;5;241m=\u001b[39m \u001b[43mAirScraper\u001b[49m\u001b[43m(\u001b[49m\u001b[43murl\u001b[49m\u001b[43m,\u001b[49m\u001b[43m \u001b[49m\u001b[43msess\u001b[49m\u001b[38;5;241;43m=\u001b[39;49m\u001b[43msession\u001b[49m\u001b[43m)\u001b[49m\n\u001b[1;32m     20\u001b[0m \u001b[38;5;66;03m# Get the table data\u001b[39;00m\n\u001b[1;32m     21\u001b[0m data \u001b[38;5;241m=\u001b[39m client\u001b[38;5;241m.\u001b[39mget_table()\u001b[38;5;241m.\u001b[39mtext\n",
      "File \u001b[0;32m~/Library/jupyterlab-desktop/jlab_server/lib/python3.12/site-packages/airscraper/airscraper.py:26\u001b[0m, in \u001b[0;36mAirScraper.__init__\u001b[0;34m(self, url, sess, password, locale, tz, cache)\u001b[0m\n\u001b[1;32m     24\u001b[0m \u001b[38;5;28;01mif\u001b[39;00m \u001b[38;5;28mself\u001b[39m\u001b[38;5;241m.\u001b[39mis_protected:\n\u001b[1;32m     25\u001b[0m     \u001b[38;5;28mself\u001b[39m\u001b[38;5;241m.\u001b[39mlogin()\n\u001b[0;32m---> 26\u001b[0m \u001b[38;5;28;43mself\u001b[39;49m\u001b[38;5;241;43m.\u001b[39;49m\u001b[43mupdate_params\u001b[49m\u001b[43m(\u001b[49m\u001b[43m)\u001b[49m\n",
      "File \u001b[0;32m~/Library/jupyterlab-desktop/jlab_server/lib/python3.12/site-packages/airscraper/airscraper.py:75\u001b[0m, in \u001b[0;36mAirScraper.update_params\u001b[0;34m(self)\u001b[0m\n\u001b[1;32m     72\u001b[0m     \u001b[38;5;28mself\u001b[39m\u001b[38;5;241m.\u001b[39mparams \u001b[38;5;241m=\u001b[39m {\u001b[38;5;124m\"\u001b[39m\u001b[38;5;124mx-time-zone\u001b[39m\u001b[38;5;124m\"\u001b[39m: \u001b[38;5;28mself\u001b[39m\u001b[38;5;241m.\u001b[39mtz, \u001b[38;5;124m\"\u001b[39m\u001b[38;5;124mx-user-locale\u001b[39m\u001b[38;5;124m\"\u001b[39m: \u001b[38;5;28mself\u001b[39m\u001b[38;5;241m.\u001b[39mlocale,\n\u001b[1;32m     73\u001b[0m                    \u001b[38;5;124m\"\u001b[39m\u001b[38;5;124mx-airtable-application-id\u001b[39m\u001b[38;5;124m\"\u001b[39m: app_id, \u001b[38;5;124m\"\u001b[39m\u001b[38;5;124maccessPolicy\u001b[39m\u001b[38;5;124m\"\u001b[39m: access_policy}\n\u001b[1;32m     74\u001b[0m \u001b[38;5;28;01mexcept\u001b[39;00m:\n\u001b[0;32m---> 75\u001b[0m     \u001b[38;5;28;01mraise\u001b[39;00m \u001b[38;5;167;01mConnectionError\u001b[39;00m(\n\u001b[1;32m     76\u001b[0m         \u001b[38;5;124m\"\u001b[39m\u001b[38;5;124mUnauthorized Access, please try again by providing password, i.e. Airscraper(url,password=password)\u001b[39m\u001b[38;5;124m\"\u001b[39m)\n",
      "\u001b[0;31mConnectionError\u001b[0m: Unauthorized Access, please try again by providing password, i.e. Airscraper(url,password=password)"
     ]
    }
   ],
   "source": [
    "from airscraper import AirScraper\n",
    "\n",
    "url = \"https://airtable.com/apppHsrCWMfdxiY1D/shrf5oUOiC3KzhNGK?8MYWc%3Asort=eyJwZWxacEhHRzNNeXdyZmp2RiI6eyJjb2x1bW5JZCI6ImZsZENNSlVhak8zbktUSDZZIiwiYXNjZW5kaW5nIjp0cnVlfX0\"\n",
    "\n",
    "# Create a session object first\n",
    "import requests\n",
    "session = requests.Session()\n",
    "\n",
    "# Perform the login manually with the session\n",
    "login_url = \"https://airtable.com/login\"\n",
    "login_data = {\n",
    "    \"email\": \"your_email@example.com\",\n",
    "    \"password\": \"Hydhy!!25244\"\n",
    "}\n",
    "session.post(login_url, data=login_data)\n",
    "\n",
    "# Now pass this authenticated session to AirScraper\n",
    "client = AirScraper(url, password = )\n",
    "\n",
    "# Get the table data\n",
    "data = client.get_table().text\n",
    "\n",
    "# Save the data\n",
    "with open(\"airtable_data.csv\", \"w\") as f:\n",
    "    f.write(data)\n",
    "\n",
    "print(\"Data saved successfully!\")"
   ]
  }
 ],
 "metadata": {
  "kernelspec": {
   "display_name": "Python 3 (ipykernel)",
   "language": "python",
   "name": "python3"
  },
  "language_info": {
   "codemirror_mode": {
    "name": "ipython",
    "version": 3
   },
   "file_extension": ".py",
   "mimetype": "text/x-python",
   "name": "python",
   "nbconvert_exporter": "python",
   "pygments_lexer": "ipython3",
   "version": "3.12.2"
  }
 },
 "nbformat": 4,
 "nbformat_minor": 5
}
